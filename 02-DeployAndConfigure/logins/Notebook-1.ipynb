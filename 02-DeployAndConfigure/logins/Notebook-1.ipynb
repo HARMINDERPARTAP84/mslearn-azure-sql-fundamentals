{
    "metadata": {
        "kernelspec": {
            "name": "SQL",
            "display_name": "SQL",
            "language": "sql"
        },
        "language_info": {
            "name": "sql",
            "version": ""
        }
    },
    "nbformat_minor": 2,
    "nbformat": 4,
    "cells": [
        {
            "cell_type": "code",
            "source": [
                "-- Create a new SQL login and give them a password\r\n",
                "CREATE LOGIN ApplicationUser WITH PASSWORD = 'P@Ssw0rd';"
            ],
            "metadata": {
                "azdata_cell_guid": "38a21a2e-2ad8-4d35-b10a-1217a94ead59"
            },
            "outputs": [
                {
                    "output_type": "display_data",
                    "data": {
                        "text/html": "Commands completed successfully."
                    },
                    "metadata": {}
                },
                {
                    "output_type": "display_data",
                    "data": {
                        "text/html": "Total execution time: 00:00:00.207"
                    },
                    "metadata": {}
                }
            ],
            "execution_count": 1
        }
    ]
}